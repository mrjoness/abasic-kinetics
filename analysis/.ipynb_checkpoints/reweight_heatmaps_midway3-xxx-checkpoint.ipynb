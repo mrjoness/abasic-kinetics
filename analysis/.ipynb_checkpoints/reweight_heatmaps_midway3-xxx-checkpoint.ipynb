{
 "cells": [
  {
   "cell_type": "code",
   "execution_count": 1,
   "metadata": {},
   "outputs": [],
   "source": [
    "## reweight to a set of cvs not part of intial biased CV set\n",
    "## follow tutorial 3 walkthrough: https://www.plumed.org/doc-v2.7/user-doc/html/masterclass-21-4.html\n",
    "\n",
    "import numpy as np\n",
    "import glob\n",
    "import pandas as pd\n",
    "import matplotlib.pyplot as plt\n",
    "import matplotlib.colors as mcolors\n",
    "import matplotlib.cm as cm\n",
    "import mdtraj as md\n",
    "import seaborn as sns"
   ]
  },
  {
   "cell_type": "code",
   "execution_count": 3,
   "metadata": {},
   "outputs": [
    {
     "name": "stdout",
     "output_type": "stream",
     "text": [
      "0\n"
     ]
    }
   ],
   "source": [
    "# get all abasic sequence combos\n",
    "all_trajs = sorted(glob.glob('../11bp_varyT_s-0.01_bf-4_ns-1e+09/*/COLVAR'))\n",
    "all_trajs = [traj.replace('COLVAR', '') for traj in all_trajs]\n",
    "print(len(all_trajs))"
   ]
  },
  {
   "cell_type": "code",
   "execution_count": 4,
   "metadata": {},
   "outputs": [],
   "source": [
    "# take distance functions from midway2 run_abasics\n",
    "\n",
    "def get_pairs(num_bp, b_idx, strand=1):\n",
    "    '''only returns native contacts for abasic seqs'''\n",
    "    \n",
    "    atom_pairs = []\n",
    "    \n",
    "    # account for control\n",
    "    if b_idx is None:\n",
    "        s1 = [i*3 + 1 for i in range(num_bp)]\n",
    "        s2 = [i*3 + num_bp*3 for i in range(num_bp)]\n",
    "        \n",
    "        for idx, (b1, b2) in enumerate(zip(s1, reversed(s2))):\n",
    "            atom_pairs.append((b1, b2))\n",
    "    else:\n",
    "        # shift index down for missing bp\n",
    "        s1 = [i*3 + 1 for i in range(b_idx-1)] + [i*3 for i in range(b_idx-1, num_bp)]\n",
    "        s2 = [i*3 + num_bp*3 - 1 for i in range(num_bp)]\n",
    "\n",
    "        for idx, (b1, b2) in enumerate(zip(s1, reversed(s2))):\n",
    "            # just append same base for missing index\n",
    "            if idx == b_idx-1:\n",
    "                atom_pairs.append((b1, b1))\n",
    "\n",
    "            # else append proper pair\n",
    "            else:\n",
    "                atom_pairs.append((b1, b2))\n",
    "                \n",
    "    return atom_pairs\n",
    "\n",
    "def get_all_pairs(num_bp, b_idx, strand=1):\n",
    "    '''return all intermolecular pairs for abasic seqs'''\n",
    "    \n",
    "    atom_pairs = []\n",
    "    \n",
    "    # account for control\n",
    "    if b_idx is None:\n",
    "        s1 = [i*3 + 1 for i in range(num_bp)]\n",
    "        s2 = [i*3 + num_bp*3 for i in range(num_bp)]\n",
    "    else:\n",
    "        # shift index down for missing bp\n",
    "        s1 = [i*3 + 1 for i in range(b_idx-1)] + [i*3 for i in range(b_idx, num_bp)]\n",
    "        s2 = [i*3 + num_bp*3 - 1 for i in range(num_bp)]\n",
    "        \n",
    "    for b1 in s1:\n",
    "        for b2 in s2:\n",
    "            atom_pairs.append((b1, b2))\n",
    "            \n",
    "    return atom_pairs\n",
    "\n",
    "# calculate distances for equilibrium simulations\n",
    "# only run this once (run = True) to generate the initial distance set\n",
    "\n",
    "run = False\n",
    "num_bp = 11\n",
    "stride = 1\n",
    "traj_file = 'traj.xyz'\n",
    "\n",
    "if run:\n",
    "    for path in all_trajs:\n",
    "        \n",
    "        print(path)\n",
    "        top_seq = path.split('_base-')[0][-11:]\n",
    "        b = int(path.split('_base-')[-1][0])\n",
    "        if b == 0: base = None\n",
    "        else: base = b\n",
    "        \n",
    "        temp = path.split('temp-')[-1][:3]\n",
    "        traj_dir = path\n",
    "        save_dir = 'heatmap_distances_vary_temp'\n",
    "    \n",
    "        # get proper indices for missing bead\n",
    "        \n",
    "        atom_pairs = get_all_pairs(num_bp, base, strand=1)\n",
    "        if base==None:  top = f'../11bps/{top_seq}/in00_cvmd.psf'\n",
    "        else:     top = f'../11bps/{top_seq}/in00_cvmd_base-{b}_strand-1.psf'\n",
    "\n",
    "        # generate traj object and extract distances\n",
    "        traj = path+traj_file\n",
    "        traj_obj = md.load_lammpstrj(traj, top=top, stride=stride, unit_set='real')\n",
    "        dist_arr = md.compute_distances(traj_obj, atom_pairs, periodic=True, opt=True)\n",
    "\n",
    "        ## save all dist as array\n",
    "        shp = str(dist_arr.shape)[1:-1].replace(', ', '-')\n",
    "        save_name = f'{save_dir}{top_seq}_b{b}_T-{temp}_{shp}.npy'\n",
    "        np.save(save_name, dist_arr)\n",
    "        print(path, shp)\n"
   ]
  },
  {
   "cell_type": "code",
   "execution_count": 5,
   "metadata": {},
   "outputs": [],
   "source": [
    "# histogram distances based on biased free energy maps\n",
    "\n",
    "def load_colvar(colvar, ncvs=9):\n",
    "    '''read colvar file and output traj array'''\n",
    "    \n",
    "    df = pd.read_csv(colvar, header=0, delim_whitespace=True)\n",
    "    cols = df.columns[3:]\n",
    "    data = np.array(df)[:, 1:-2] \n",
    "    colvar_dict = {}\n",
    "    for col, val in zip(cols, data.T):\n",
    "        colvar_dict[col] = val\n",
    "    return colvar_dict\n",
    "\n",
    "def convert_to_fes(colvar_dict, temp, norm_dissociated=True,gmin=.45, gmax =7.5):\n",
    "    '''convert each cv in colvar to fes\n",
    "       returns histogram converted to fes, bins values, and indices\n",
    "       corresponding to each bin'''\n",
    "    \n",
    "    R = 8.3124 / 1000\n",
    "    nbins = 200\n",
    "    bias = colvar_dict['metad.bias']\n",
    "    weights = np.exp(bias/(R*temp))\n",
    "\n",
    "\n",
    "    for cv, traj in colvar_dict.items():\n",
    "        if 'mean' in cv:\n",
    "            prob_hist, bins = np.histogram(traj, bins=nbins, range=(gmin, gmax), weights=weights, density=False)\n",
    "            hist_idxs = np.digitize(traj, bins)\n",
    "            fes_hist = -R*temp*np.log(prob_hist) \n",
    "            \n",
    "            if norm_dissociated:\n",
    "                fes_hist = fes_hist - min(fes_hist[100:])\n",
    "    \n",
    "    return bins, fes_hist, hist_idxs\n",
    "\n",
    "def load_distances(seq, base, temp, idxs, path='./heatmap_distances'):\n",
    "    '''returns an array of distances given specified idxs, seuqence and base'''\n",
    "    \n",
    "    dist_path = glob.glob(f'{path}/*{seq}*b{base}*{temp}*')[0]\n",
    "    dists = np.load(dist_path)[idxs]\n",
    "    return dists\n",
    "\n"
   ]
  },
  {
   "cell_type": "code",
   "execution_count": 7,
   "metadata": {},
   "outputs": [
    {
     "name": "stdout",
     "output_type": "stream",
     "text": [
      "CCTATATATCC 4 283\n",
      "37 0.925 [0.56400293 0.72857875 0.55459225] (1275, 110)\n",
      "CCTATATATCC 4 293\n",
      "36 0.9 [0.56845874 0.7268651  0.55599374] (920, 110)\n",
      "CCTATATATCC 4 300\n",
      "38 0.9500000000000001 [0.57302505 0.7265378  0.5569612 ] (923, 110)\n",
      "CCTATATATCC 4 304\n",
      "38 0.9500000000000001 [0.58268034 0.7285138  0.5581347 ] (688, 110)\n",
      "CCTATATATCC 4 308\n",
      "39 0.9750000000000001 [0.57949483 0.72800875 0.55685544] (460, 110)\n"
     ]
    },
    {
     "data": {
      "image/png": "[encoded data removed]",
      "text/plain": [
       "<Figure size 432x288 with 1 Axes>"
      ]
     },
     "metadata": {
      "needs_background": "light"
     },
     "output_type": "display_data"
    },
    {
     "data": {
      "image/png": "[encoded data removed]",
      "text/plain": [
       "<Figure size 1440x288 with 5 Axes>"
      ]
     },
     "metadata": {
      "needs_background": "light"
     },
     "output_type": "display_data"
    }
   ],
   "source": [
    "## visualize all temperatures for a given base/sequence combo\n",
    "colvar_dir = '11bp_varyT_s-0.01_bf-4_ns-1e+09/'\n",
    "dist_path = './heatmap_distances_vary_temp/'\n",
    "base, sequence = 4, 'CCTATATATCC'\n",
    "\n",
    "v_min, v_max = .6, 3\n",
    "n_bp = 11\n",
    "barrier_idxs_list, temp_list = [], []\n",
    "\n",
    "# get all abasic sequence combos\n",
    "all_colvars = sorted(glob.glob(f'../{colvar_dir}/{sequence}_base-{base}*/COLVAR'))\n",
    "all_colvars = [colvar.replace('/COLVAR', '') for colvar in all_colvars]\n",
    "all_temps = [int(c.split('temp-')[-1][:3]) for c in all_colvars]\n",
    "\n",
    "ax1 = plt.subplot(2, 1, 1)\n",
    "fig, axes = plt.subplots(1, 5, figsize=(20, 4), sharex=False, sharey=False)\n",
    "\n",
    "# fix color map\n",
    "normalize = mcolors.Normalize(vmin=min(all_temps), vmax=max(all_temps))\n",
    "colormap = cm.jet\n",
    "np.seterr(divide='ignore')\n",
    "\n",
    "for colvar_dir, ax_col in zip(all_colvars, axes):\n",
    "    temp = int(colvar_dir.split('temp-')[-1][:3])\n",
    "    temp_list.append(temp)\n",
    "    print(sequence, base, temp)\n",
    "\n",
    "    colvar_dict = load_colvar(f'{colvar_dir}/COLVAR')\n",
    "    bins, fes, hist_idxs  = convert_to_fes(colvar_dict, temp,gmin=0,gmax=5)\n",
    "    hist_idxs = hist_idxs[::2] # account for less frequence readout\n",
    "    \n",
    "    # plot the free energy surface\n",
    "    label = temp\n",
    "    color = colormap(normalize(temp))\n",
    "    ax1.plot(bins[:-1], fes, label=label, color=color)\n",
    "    ax1.set_title(f'{sequence} base = {base}')\n",
    "    ax1.legend(title='Temp (K)', loc=\"lower right\")\n",
    "        \n",
    "    # plot heatmap of ensemble of frames at specified\n",
    "    ax = ax_col\n",
    "    #bin_idx = np.argmax(fes[25:100])+25 # find barrier\n",
    "    bin_idx = np.argmin(fes[33:60])+33 # find specific metastable minimum\n",
    "    ax1.axvline(bins[bin_idx], linestyle='dashed')\n",
    "    \n",
    "    all_frames_idxs = np.where(hist_idxs==bin_idx)[0]\n",
    "    dists = load_distances(sequence, base, temp, \n",
    "                           all_frames_idxs, path = dist_path)\n",
    "    dists_mean = np.mean(dists, axis=0)\n",
    "    print(bin_idx, bins[bin_idx], dists_mean[[50, 60, 70]], np.shape(dists))\n",
    "    barrier_idxs_list.append(all_frames_idxs)\n",
    "\n",
    "    # reshape control differently than abasic\n",
    "    cbar = False\n",
    "    if base==0:\n",
    "        plot_idxs = dists_mean.reshape(n_bp, n_bp)\n",
    "        sns.heatmap(plot_idxs, ax=ax, vmin=v_min, vmax=v_max, cbar=cbar)\n",
    "    else:\n",
    "        plot_idxs = dists_mean.reshape(n_bp-1, n_bp)\n",
    "        plot_idxs = np.insert(plot_idxs, base-1, 0, axis=0)\n",
    "        mask = np.zeros((n_bp-1, n_bp))\n",
    "        mask = np.insert(mask, base-1, 1, axis=0)\n",
    "        sns.heatmap(plot_idxs, mask=mask, ax=ax, vmin=v_min, vmax=v_max, cbar=cbar)\n",
    "    ax.set_title(f'temp = {temp} K', fontsize=18)\n",
    "        \n",
    "spaces = ' '*50\n",
    "axes[2].set_xlabel(f'', fontsize=18)\n",
    "ax1.set_ylabel(f'Free energy (kJ/mol)')\n",
    "ax1.set_xlabel(f'Average WC distance (nm)')\n",
    "axes[2].set_xlabel(f'Average intermolecular distances (nm)', fontsize=18)\n",
    "plt.subplots_adjust(hspace=0.4, wspace=0.3)"
   ]
  },
  {
   "cell_type": "code",
   "execution_count": 8,
   "metadata": {},
   "outputs": [
    {
     "name": "stdout",
     "output_type": "stream",
     "text": [
      "283 (10, 63, 3)\n",
      "(10, 63, 3)\n"
     ]
    }
   ],
   "source": [
    "## visualize frames for each\n",
    "nsamples = 10\n",
    "save_lammpstrj = f'temp_lammpstrjs/{sequence}_b{base}_{nsamples}x{len(temp_list)}.lammpstrj'\n",
    "\n",
    "if base==0:  top_psf = f'../11bps/{sequence}/in00_cvmd.psf'\n",
    "else:        top_psf = f'../11bps/{sequence}/in00_cvmd_base-{base}_strand-1.psf'\n",
    "\n",
    "traj_list = []\n",
    "for temp, barrier_idxs, traj_dir in zip(temp_list, barrier_idxs_list, all_colvars):\n",
    "    \n",
    "    traj_file = f'{traj_dir}/traj.xyz'\n",
    "    idxs = np.random.choice(barrier_idxs, size=10, replace=False)\n",
    "    traj = md.load_lammpstrj(traj_file, top=top_psf)[idxs]\n",
    "    traj_list.append(traj)\n",
    "    print(temp, traj.xyz.shape)\n",
    "    \n",
    "    break\n",
    "\n",
    "all_trajs = md.join(traj_list)\n",
    "all_trajs.save_lammpstrj(save_lammpstrj)\n",
    "print(all_trajs.xyz.shape)"
   ]
  },
  {
   "cell_type": "markdown",
   "metadata": {},
   "source": [
    "### load vmd and fix pbcs manually by running the following tk:\n",
    "\n",
    "pbc unwrap -all\n",
    "\n",
    "pbc join connected -all\n",
    "\n",
    "pbc wrap -center com -centersel \"segname DNA1\" -compound residue -all\n"
   ]
  },
  {
   "cell_type": "code",
   "execution_count": null,
   "metadata": {
    "scrolled": true
   },
   "outputs": [
    {
     "name": "stdout",
     "output_type": "stream",
     "text": [
      "vmd ../11bps/CCTATATATCC/in00_cvmd_base-4_strand-1.psf temp_lammpstrjs/CCTATATATCC_b4_10x5.lammpstrj\n",
      "/software/vmd-1.9.3-el8-x86_64/lib/vmd/vmd_LINUXAMD64: /lib64/libGL.so.1: no version information available (required by /software/vmd-1.9.3-el8-x86_64/lib/vmd/vmd_LINUXAMD64)\n",
      "Info) VMD for LINUXAMD64, version 1.9.3 (November 30, 2016)\n",
      "Info) http://www.ks.uiuc.edu/Research/vmd/                         \n",
      "Info) Email questions and bug reports to vmd@ks.uiuc.edu           \n",
      "Info) Please include this reference in published work using VMD:   \n",
      "Info)    Humphrey, W., Dalke, A. and Schulten, K., `VMD - Visual   \n",
      "Info)    Molecular Dynamics', J. Molec. Graphics 1996, 14.1, 33-38.\n",
      "Info) -------------------------------------------------------------\n",
      "Info) Multithreading available, 96 CPUs detected.\n",
      "Info)   CPU features: SSE2 AVX AVX2 FMA KNL:AVX-512F+CD+ER+PF \n",
      "Info) Free system memory: 67GB (35%)\n",
      "Info) No CUDA accelerator devices available.\n",
      "Warning) Detected X11 'Composite' extension: if incorrect display occurs\n",
      "Warning) try disabling this X server option.  Most OpenGL drivers\n",
      "Warning) disable stereoscopic display when 'Composite' is enabled.\n",
      "Info) OpenGL renderer: llvmpipe (LLVM 9.0.0, 256 bits)\n",
      "Info)   Features: STENCIL MDE CVA MTX NPOT PP PS GLSL(OVF) \n",
      "Info)   Full GLSL rendering mode is available.\n",
      "Info)   Textures: 2-D (8192x8192), 3-D (512x512x512), Multitexture (8)\n",
      "Info) Dynamically loaded 2 plugins in directory:\n",
      "Info) /software/vmd-1.9.3-el8-x86_64/lib/vmd/plugins/LINUXAMD64/molfile\n",
      "Info) File loading in progress, please wait.\n",
      "Info) Using plugin psf for structure file ../11bps/CCTATATATCC/in00_cvmd_base-4_strand-1.psf\n",
      "psfplugin) WARNING: no impropers defined in PSF file.\n",
      "psfplugin) no cross-terms defined in PSF file.\n",
      "Info) Analyzing structure ...\n",
      "Info)    Atoms: 63\n",
      "Info)    Bonds: 61\n",
      "Info)    Angles: 94  Dihedrals: 36  Impropers: 0  Cross-terms: 0\n",
      "Info)    Bondtypes: 0  Angletypes: 0  Dihedraltypes: 0  Impropertypes: 0\n",
      "Info)    Residues: 22\n",
      "Info)    Waters: 0\n",
      "Info)    Segments: 2\n",
      "Info)    Fragments: 2   Protein: 0   Nucleic: 0\n",
      "lammpsplugin) New style dump with 5 data fields. Coordinate data flags: 0x08\n",
      "lammpsplugin) Using absolute atomic coordinates directly.\n",
      "Info) Using plugin lammpstrj for coordinates from file temp_lammpstrjs/CCTATATATCC_b4_10x5.lammpstrj\n",
      "Info) Finished with coordinate file temp_lammpstrjs/CCTATATATCC_b4_10x5.lammpstrj.\n",
      "vmd > "
     ]
    }
   ],
   "source": [
    "# load vmd\n",
    "print(f'vmd {top_psf} {save_lammpstrj}')\n",
    "!vmd {top_psf} {save_lammpstrj}"
   ]
  },
  {
   "cell_type": "code",
   "execution_count": null,
   "metadata": {},
   "outputs": [],
   "source": []
  }
 ],
 "metadata": {
  "kernelspec": {
   "display_name": "Python 3",
   "language": "python",
   "name": "python3"
  },
  "language_info": {
   "codemirror_mode": {
    "name": "ipython",
    "version": 3
   },
   "file_extension": ".py",
   "mimetype": "text/x-python",
   "name": "python",
   "nbconvert_exporter": "python",
   "pygments_lexer": "ipython3",
   "version": "3.7.4"
  }
 },
 "nbformat": 4,
 "nbformat_minor": 4
}
